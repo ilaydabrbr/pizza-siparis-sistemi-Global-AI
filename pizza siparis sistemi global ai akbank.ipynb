{
  "nbformat": 4,
  "nbformat_minor": 0,
  "metadata": {
    "colab": {
      "provenance": [],
      "include_colab_link": true
    },
    "kernelspec": {
      "name": "python3",
      "display_name": "Python 3"
    },
    "language_info": {
      "name": "python"
    }
  },
  "cells": [
    {
      "cell_type": "markdown",
      "metadata": {
        "id": "view-in-github",
        "colab_type": "text"
      },
      "source": [
        "<a href=\"https://colab.research.google.com/github/ilaydabrbr/pizza-siparis-sistemi-Global-AI/blob/main/pizza%20siparis%20sistemi%20global%20ai%20akbank.ipynb\" target=\"_parent\"><img src=\"https://colab.research.google.com/assets/colab-badge.svg\" alt=\"Open In Colab\"/></a>"
      ]
    },
    {
      "cell_type": "code",
      "execution_count": 1,
      "metadata": {
        "id": "q37cpOAl5EwI"
      },
      "outputs": [],
      "source": [
        "import csv\n",
        "import datetime\n",
        "import os\n",
        "\n"
      ]
    },
    {
      "cell_type": "code",
      "source": [
        "#Menu.txt dosyası oluşturma\n",
        "f= open(\"Menu.txt\",\"w\")\n",
        "f.writelines([\"1)Klasik Pizza\\n\", \"2)Margarita\\n\", \"3)TurkPizza\\n\", \"4)Sade Pizza\\n\",\"5)Zeytin\\n\", \"6)Mantar\\n\", \"7)Keçi Peyniri\\n\", \"8)Et\\n\",\"9)Soğan\\n\",\"10)Mısır\"])\n",
        "f.close()"
      ],
      "metadata": {
        "id": "NNkkYEbs5RB8"
      },
      "execution_count": 2,
      "outputs": []
    },
    {
      "cell_type": "code",
      "source": [
        "f=open(\"Menu.txt\",\"r\")\n",
        "print(f.read())"
      ],
      "metadata": {
        "colab": {
          "base_uri": "https://localhost:8080/"
        },
        "id": "lY-yEjH96AOr",
        "outputId": "f21a2ad7-2ebf-42ad-adf8-95c2f34f5783"
      },
      "execution_count": 3,
      "outputs": [
        {
          "output_type": "stream",
          "name": "stdout",
          "text": [
            "1)Klasik Pizza\n",
            "2)Margarita\n",
            "3)TurkPizza\n",
            "4)Sade Pizza\n",
            "5)Zeytin\n",
            "6)Mantar\n",
            "7)Keçi Peyniri\n",
            "8)Et\n",
            "9)Soğan\n",
            "10)Mısır\n"
          ]
        }
      ]
    },
    {
      "cell_type": "code",
      "source": [
        "#ust sınıf olustur\n",
        "class Pizza():\n",
        "  def __init__(self):\n",
        "    self.description=\"\"\n",
        "    self.cost=0\n",
        "\n",
        "  def get_description(self):\n",
        "    return self.description\n",
        "\n",
        "  def get_cost(self):\n",
        "    return self.cost"
      ],
      "metadata": {
        "id": "lQ7QWX_E9joN"
      },
      "execution_count": 4,
      "outputs": []
    },
    {
      "cell_type": "code",
      "source": [
        "#alt sınıf oluştur \"pizza\"\n",
        "class Klasik(Pizza):\n",
        " def __init__(self):\n",
        "  self.description=\"Malzemeler: peynir, zeytin, mısır\"\n",
        "  self.cost = 60.0"
      ],
      "metadata": {
        "id": "Bf-h1uc_2eZI"
      },
      "execution_count": 5,
      "outputs": []
    },
    {
      "cell_type": "code",
      "source": [
        "class Margherita(Pizza):\n",
        "  def __init__(self):\n",
        "    self.description=\"Malzemeler: domates, mozarella, feslegen\"\n",
        "    self.cost = 50.0"
      ],
      "metadata": {
        "id": "BicS_A933QUu"
      },
      "execution_count": 6,
      "outputs": []
    },
    {
      "cell_type": "code",
      "source": [
        "class Turk(Pizza):\n",
        "  def __init__(self):\n",
        "    self.description:\"Malzemeler: salam, sucuk, peynir, domates\"\n",
        "    self.cost:75.0"
      ],
      "metadata": {
        "id": "S6WpI1pL3utW"
      },
      "execution_count": 7,
      "outputs": []
    },
    {
      "cell_type": "code",
      "source": [
        "class Sade(Pizza):\n",
        "  def __init__(self):\n",
        "    self.description:\"Malzemeler: domates, peynir, zeytin\"\n",
        "    self.cost:45.0"
      ],
      "metadata": {
        "id": "6m3XFQ854GSY"
      },
      "execution_count": 8,
      "outputs": []
    },
    {
      "cell_type": "code",
      "source": [
        "#ust sınıf olustur (decorator)\n",
        "class Decorator():\n",
        "  def __init__(self, pizza):\n",
        "    self.pizza = pizza\n",
        "    self.description = ''\n",
        "    self.cost = 0\n",
        "    \n",
        "  def get_description(self):\n",
        "    return self.description + \",\" + self.pizza.get_description()\n",
        "\n",
        "  def get_cost(self):\n",
        "    return self.cost + self.pizza.get_cost()"
      ],
      "metadata": {
        "id": "WiTD4hpe4XqB"
      },
      "execution_count": 9,
      "outputs": []
    },
    {
      "cell_type": "code",
      "source": [
        "class Zeytin(Decorator):\n",
        "  def __init__(self, pizza):\n",
        "    Decorator.__init__(self, pizza)\n",
        "    self.cost = 5.0\n",
        "    self.description = \"Zeytin\""
      ],
      "metadata": {
        "id": "PiTEG2Si6_0I"
      },
      "execution_count": 10,
      "outputs": []
    },
    {
      "cell_type": "code",
      "source": [
        "class Mantar(Decorator):\n",
        "   def __init__(self, pizza):\n",
        "    Decorator.__init__(self, pizza)\n",
        "    self.cost = 10.0\n",
        "    self.description = \"Mantar\""
      ],
      "metadata": {
        "id": "WpA4wAQr8FnH"
      },
      "execution_count": 11,
      "outputs": []
    },
    {
      "cell_type": "code",
      "source": [
        "class KeciPeyniri(Decorator):\n",
        "   def __init__(self, pizza):\n",
        "    Decorator.__init__(self, pizza)\n",
        "    self.cost = 25.0\n",
        "    self.description = \"KeciPeyniri\""
      ],
      "metadata": {
        "id": "_zeFIPbP8LSV"
      },
      "execution_count": 12,
      "outputs": []
    },
    {
      "cell_type": "code",
      "source": [
        "class Et(Decorator):\n",
        "  def __init__(self, pizza):\n",
        "    Decorator.__init__(self, pizza)\n",
        "    self.cost = 25.0\n",
        "    self.description = \"Et\""
      ],
      "metadata": {
        "id": "7tTvIUhL8Q7C"
      },
      "execution_count": 13,
      "outputs": []
    },
    {
      "cell_type": "code",
      "source": [
        "class Sogan(Decorator):\n",
        "   def __init__(self, pizza):\n",
        "    Decorator.__init__(self, pizza)\n",
        "    self.cost = 5.0\n",
        "    self.description = \"Sogan\""
      ],
      "metadata": {
        "id": "6lBN9KTj8V8s"
      },
      "execution_count": 14,
      "outputs": []
    },
    {
      "cell_type": "code",
      "source": [
        "class Mısır(Decorator):\n",
        "   def __init__(self, pizza):\n",
        "    Decorator.__init__(self, pizza)\n",
        "    self.cost = 5.0\n",
        "    self.description = \"Mısır\""
      ],
      "metadata": {
        "id": "-qZA3J-Z8Zgg"
      },
      "execution_count": 15,
      "outputs": []
    },
    {
      "cell_type": "code",
      "source": [
        "#main fonk olustur\n",
        "def main():\n",
        "  with open (\"Menu.txt\", 'r') as menu:\n",
        "    for line in menu:\n",
        "     print(line, end=\"\")"
      ],
      "metadata": {
        "id": "9ldSIr438dVw"
      },
      "execution_count": 16,
      "outputs": []
    },
    {
      "cell_type": "code",
      "source": [
        "def place_Order():\n",
        "  #pizza seçimi\n",
        "  pizza = \"\"\n",
        "  while pizza == \"\":\n",
        "    selectpizza = input(\"Lütfen pizzanızı seçin: \")\n",
        "    if selectpizza == \"1\":\n",
        "      pizza = Klasik()\n",
        "    elif selectpizza == \"2\":\n",
        "      pizza = Margherita()\n",
        "    elif selectpizza == \"3\":\n",
        "      pizza = Turk()\n",
        "    elif selectpizza == \"4\":\n",
        "      pizza = Sade()\n",
        "    else:\n",
        "      print(\"Lütfen menüde bulunan pizzalardan bir seçim yapınız.\")\n",
        "    #sos seçimi\n",
        "    soslar = \"\"\n",
        "  while soslar == \"\":\n",
        "    selectsauce = input(\"lütfen pizza sosunuzu seçin: \")\n",
        "    if selectsauce == \"5\":\n",
        "       soslarObject = Zeytin(pizza)\n",
        "       soslar = selectsauce\n",
        "    elif selectsauce == \"6\":\n",
        "      soslarObject = Mantar(pizza)\n",
        "      soslar = selectsauce\n",
        "    elif selectsauce == \"7\":\n",
        "      soslarObject = KeciPeyniri(pizza)\n",
        "      soslar = selectsauce\n",
        "    elif selectsauce == \"8\":\n",
        "      soslarObject = Et(pizza)\n",
        "      soslar = selectsauce\n",
        "    elif selectsauce == \"9\":\n",
        "      soslarObject = Sogan(pizza)\n",
        "      soslar = selectsauce\n",
        "    elif selectsauce == \"10\":\n",
        "      soslarObject = Mısır(pizza)\n",
        "      soslar = selectsauce\n",
        "    else:\n",
        "    \n",
        "      print(\"Lütfen menüden bir sos seçiniz.\")\n",
        "\n",
        "    toplamFiyat = soslarObject.get_cost()\n",
        "    pizzadescription = soslarObject.get_description()\n",
        "    print(f\"{pizzadescription} pizzanız hazır toplam fiyat:{str(toplamFiyat)}\")\n",
        "\n",
        "\n",
        "place_Order()"
      ],
      "metadata": {
        "id": "UY6gtV489RmO"
      },
      "execution_count": null,
      "outputs": []
    },
    {
      "cell_type": "code",
      "source": [
        "\n",
        "    customer_name = ''\n",
        "    while customer_name=='':\n",
        "        customer_name = input(\"Lütfen adınızı yazın: \")\n",
        "        if customer_name == '':\n",
        "            print(\"Adınız kısmı boş bırakılamaz.\")\n",
        "\n",
        "    tc_no = ''\n",
        "    while tc_no=='':\n",
        "        tc_no = input(\"Lütfen TC numaranızı girin: \")\n",
        "        if len(tc_no)!= 11:\n",
        "            print(\"Lütfen TC numaranızı kontrol ediniz\")\n",
        "            tc_no = ''\n",
        "\n",
        "    card_no=''\n",
        "    while card_no=='':\n",
        "        card_no=input('Lütfen kartınızın üzerindeki numarayı girin: ')\n",
        "        if len(card_no)!=16:\n",
        "            print(\"Kart numaranızı kontrol ediniz\")\n",
        "            card_no=''\n",
        "\n",
        "    card_pass=''\n",
        "    while card_pass=='':\n",
        "        card_pass=input(\"Şifrenizi giriniz: \")\n",
        "        order_time=datetime.datetime.now()\n",
        "\n",
        "  \n",
        "\n"
      ],
      "metadata": {
        "id": "VEBpiwNUO-L7"
      },
      "execution_count": null,
      "outputs": []
    },
    {
      "cell_type": "code",
      "source": [
        "with open('Orders_Database.csv', 'a') as orders:\n",
        "    orders = csv.writer(orders, delimiter=',')\n",
        "    orders.writerow([customer_name, tc_no, card_no, card_pass, order_time])\n",
        "print('Siparişiniz başarılı. Afiyet olsun!')    "
      ],
      "metadata": {
        "id": "IiZbhzKWSbMz"
      },
      "execution_count": null,
      "outputs": []
    },
    {
      "cell_type": "markdown",
      "source": [],
      "metadata": {
        "id": "g95ub8zV-OyF"
      }
    }
  ]
}